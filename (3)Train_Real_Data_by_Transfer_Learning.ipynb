{
 "cells": [
  {
   "cell_type": "code",
   "execution_count": 2,
   "metadata": {},
   "outputs": [
    {
     "name": "stdout",
     "output_type": "stream",
     "text": [
      "TensorFlow version: 1.10.0\n",
      "Keras version: 2.2.0\n"
     ]
    }
   ],
   "source": [
    "import keras\n",
    "import tensorflow as tf\n",
    "print('TensorFlow version:', tf.__version__)\n",
    "print('Keras version:', keras.__version__)\n",
    "import os\n",
    "from os.path import join\n",
    "import random\n",
    "import itertools\n",
    "import datetime\n",
    "import numpy as np\n",
    "import pylab\n",
    "import matplotlib.pyplot as plt\n",
    "from keras import backend as K\n",
    "from keras.layers.convolutional import Conv2D, MaxPooling2D\n",
    "from keras.layers import Input, Dense, Activation, TimeDistributed, Multiply, BatchNormalization, Bidirectional, GlobalAveragePooling2D\n",
    "from keras.layers import Reshape, Lambda, Flatten, Dropout, Concatenate, Permute, RepeatVector, GaussianNoise\n",
    "from keras.layers.merge import add, concatenate\n",
    "from keras.models import Model, load_model\n",
    "from keras.preprocessing.image import ImageDataGenerator\n",
    "from keras.layers.recurrent import GRU, LSTM\n",
    "from keras.optimizers import SGD, Adam\n",
    "from keras.utils.data_utils import get_file\n",
    "from keras.preprocessing import image\n",
    "from keras.callbacks import ModelCheckpoint\n",
    "import cv2\n",
    "from random import *\n",
    "from math import pi\n",
    "import hgtk\n",
    "from PIL import ImageFont, Image, ImageDraw\n",
    "from matplotlib import pyplot as plt\n",
    "from collections import Counter\n",
    "import datetime\n",
    "import re\n",
    "import OCR_utils as ocr"
   ]
  },
  {
   "cell_type": "code",
   "execution_count": 3,
   "metadata": {},
   "outputs": [],
   "source": [
    "kor_train = np.loadtxt('./text/train_kor_words.txt', dtype = np.str)\n",
    "kor_test = np.loadtxt('./text/test_kor_words.txt', dtype = np.str)\n",
    "eng_train = np.loadtxt('./text/train_eng_words.txt', dtype = np.str)\n",
    "eng_test = np.loadtxt('./text/test_eng_words.txt', dtype = np.str)"
   ]
  },
  {
   "cell_type": "code",
   "execution_count": 4,
   "metadata": {
    "collapsed": true
   },
   "outputs": [],
   "source": [
    "random_seed=305\n",
    "np.random.seed(random_seed)\n",
    "tf.set_random_seed(random_seed)\n",
    "\n",
    "text_length = 15\n",
    "save_model_path = './generator_transfer.hdf5'\n",
    "\n",
    "dictionary = ocr.load_dictionary()\n",
    "font_path = \"./fonts/\"\n",
    "font_list = os.listdir(font_path)"
   ]
  },
  {
   "cell_type": "code",
   "execution_count": 5,
   "metadata": {},
   "outputs": [
    {
     "name": "stdout",
     "output_type": "stream",
     "text": [
      "(6519, 32, 128, 1)\n"
     ]
    },
    {
     "data": {
      "image/png": "[encoded data removed]",
      "text/plain": [
       "<Figure size 432x288 with 1 Axes>"
      ]
     },
     "metadata": {},
     "output_type": "display_data"
    }
   ],
   "source": [
    "# 구글에서 '간판', '현수막' 등의 검색어로 crawling\n",
    "# label과 cropping은 수작업으로 진행\n",
    "\n",
    "n = 1000\n",
    "\n",
    "train_path = './data/real_train.npz'\n",
    "test_path = './data/real_test.npz'\n",
    "X_train = np.load(train_path)['x']\n",
    "X_test = np.load(test_path)['x']\n",
    "X_train = np.reshape(X_train,(X_train.shape[0],X_train.shape[1],X_train.shape[2],1))\n",
    "X_test = np.reshape(X_test,(X_test.shape[0],X_test.shape[1],X_test.shape[2],1))\n",
    "\n",
    "X_train = np.array(X_train)/255\n",
    "X_test = np.array(X_test)/255 \n",
    "\n",
    "y_train = np.load(train_path)['y']\n",
    "y_test = np.load(test_path)['y']\n",
    "print(X_train.shape)\n",
    "plt.imshow(X_test[n,:,:,0], cmap = 'gray')\n",
    "plt.show()"
   ]
  },
  {
   "cell_type": "code",
   "execution_count": 6,
   "metadata": {},
   "outputs": [
    {
     "name": "stdout",
     "output_type": "stream",
     "text": [
      "__________________________________________________________________________________________________\n",
      "Layer (type)                    Output Shape         Param #     Connected to                     \n",
      "==================================================================================================\n",
      "input_1 (InputLayer)            (None, 32, 128, 1)   0                                            \n",
      "__________________________________________________________________________________________________\n",
      "gaussian_noise_1 (GaussianNoise (None, 32, 128, 1)   0           input_1[0][0]                    \n",
      "__________________________________________________________________________________________________\n",
      "conv2d_5 (Conv2D)               (None, 32, 128, 64)  3200        gaussian_noise_1[0][0]           \n",
      "__________________________________________________________________________________________________\n",
      "conv2d_1 (Conv2D)               (None, 32, 128, 64)  36928       conv2d_5[0][0]                   \n",
      "                                                                 conv2d_1[0][0]                   \n",
      "                                                                 conv2d_1[1][0]                   \n",
      "__________________________________________________________________________________________________\n",
      "batch_normalization_1 (BatchNor (None, 32, 128, 64)  256         conv2d_1[2][0]                   \n",
      "__________________________________________________________________________________________________\n",
      "max_pooling2d_1 (MaxPooling2D)  (None, 16, 64, 64)   0           batch_normalization_1[0][0]      \n",
      "__________________________________________________________________________________________________\n",
      "dropout_1 (Dropout)             multiple             0           max_pooling2d_1[0][0]            \n",
      "                                                                 max_pooling2d_2[0][0]            \n",
      "                                                                 max_pooling2d_3[0][0]            \n",
      "__________________________________________________________________________________________________\n",
      "conv2d_6 (Conv2D)               (None, 16, 64, 128)  73856       dropout_1[0][0]                  \n",
      "__________________________________________________________________________________________________\n",
      "conv2d_2 (Conv2D)               (None, 16, 64, 128)  147584      conv2d_6[0][0]                   \n",
      "                                                                 conv2d_2[0][0]                   \n",
      "                                                                 conv2d_2[1][0]                   \n",
      "__________________________________________________________________________________________________\n",
      "batch_normalization_2 (BatchNor (None, 16, 64, 128)  512         conv2d_2[2][0]                   \n",
      "__________________________________________________________________________________________________\n",
      "max_pooling2d_2 (MaxPooling2D)  (None, 8, 32, 128)   0           batch_normalization_2[0][0]      \n",
      "__________________________________________________________________________________________________\n",
      "conv2d_7 (Conv2D)               (None, 8, 32, 256)   295168      dropout_1[1][0]                  \n",
      "__________________________________________________________________________________________________\n",
      "conv2d_3 (Conv2D)               (None, 8, 32, 256)   590080      conv2d_7[0][0]                   \n",
      "                                                                 conv2d_3[0][0]                   \n",
      "                                                                 conv2d_3[1][0]                   \n",
      "__________________________________________________________________________________________________\n",
      "batch_normalization_3 (BatchNor (None, 8, 32, 256)   1024        conv2d_3[2][0]                   \n",
      "__________________________________________________________________________________________________\n",
      "max_pooling2d_3 (MaxPooling2D)  (None, 4, 16, 256)   0           batch_normalization_3[0][0]      \n",
      "__________________________________________________________________________________________________\n",
      "conv2d_8 (Conv2D)               (None, 4, 16, 512)   1180160     dropout_1[2][0]                  \n",
      "__________________________________________________________________________________________________\n",
      "conv2d_4 (Conv2D)               (None, 4, 16, 512)   2359808     conv2d_8[0][0]                   \n",
      "                                                                 conv2d_4[0][0]                   \n",
      "                                                                 conv2d_4[1][0]                   \n",
      "__________________________________________________________________________________________________\n",
      "batch_normalization_4 (BatchNor (None, 4, 16, 512)   2048        conv2d_4[2][0]                   \n",
      "__________________________________________________________________________________________________\n",
      "max_pooling2d_4 (MaxPooling2D)  (None, 2, 8, 512)    0           batch_normalization_4[0][0]      \n",
      "__________________________________________________________________________________________________\n",
      "flatten_1 (Flatten)             (None, 8192)         0           max_pooling2d_4[0][0]            \n",
      "__________________________________________________________________________________________________\n",
      "repeat_vector_1 (RepeatVector)  (None, 15, 8192)     0           flatten_1[0][0]                  \n",
      "__________________________________________________________________________________________________\n",
      "dense_1 (Dense)                 (None, 15, 1024)     8389632     repeat_vector_1[0][0]            \n",
      "__________________________________________________________________________________________________\n",
      "dropout_2 (Dropout)             (None, 15, 1024)     0           dense_1[0][0]                    \n",
      "__________________________________________________________________________________________________\n",
      "dense_2 (Dense)                 (None, 15, 1024)     1049600     dropout_2[0][0]                  \n",
      "__________________________________________________________________________________________________\n",
      "dropout_3 (Dropout)             (None, 15, 1024)     0           dense_2[0][0]                    \n",
      "__________________________________________________________________________________________________\n",
      "bidirectional_1 (Bidirectional) (None, 15, 512)      2623488     dropout_3[0][0]                  \n",
      "__________________________________________________________________________________________________\n",
      "batch_normalization_5 (BatchNor (None, 15, 512)      2048        bidirectional_1[0][0]            \n",
      "__________________________________________________________________________________________________\n",
      "time_distributed_1 (TimeDistrib (None, 15, 512)      524800      dropout_3[0][0]                  \n",
      "__________________________________________________________________________________________________\n",
      "multiply_1 (Multiply)           (None, 15, 512)      0           batch_normalization_5[0][0]      \n",
      "                                                                 time_distributed_1[0][0]         \n",
      "__________________________________________________________________________________________________\n",
      "dropout_4 (Dropout)             (None, 15, 512)      0           multiply_1[0][0]                 \n",
      "__________________________________________________________________________________________________\n",
      "bidirectional_2 (Bidirectional) (None, 15, 512)      1574912     dropout_4[0][0]                  \n",
      "__________________________________________________________________________________________________\n",
      "dropout_5 (Dropout)             (None, 15, 512)      0           bidirectional_2[0][0]            \n",
      "__________________________________________________________________________________________________\n",
      "time_distributed_2 (TimeDistrib (None, 15, 114)      58482       dropout_5[0][0]                  \n",
      "__________________________________________________________________________________________________\n",
      "softmax (Activation)            (None, 15, 114)      0           time_distributed_2[0][0]         \n",
      "==================================================================================================\n",
      "Total params: 18,913,586\n",
      "Trainable params: 18,910,642\n",
      "Non-trainable params: 2,944\n",
      "__________________________________________________________________________________________________\n"
     ]
    }
   ],
   "source": [
    "# 생성데이터로 한 모델과 같은 구조 사용\n",
    "# hdf5 file은 용량이 커서 올리지 않으나 2번에서 학습시킨 모델을 불러와서 사용\n",
    "model = load_model('./generator_only.hdf5')\n",
    "model.summary()"
   ]
  },
  {
   "cell_type": "code",
   "execution_count": 7,
   "metadata": {
    "collapsed": true
   },
   "outputs": [],
   "source": [
    "def handmade_generator(x,y,batch_size):\n",
    "    length = len(x)\n",
    "    rand_batch = np.random.choice(length,batch_size)\n",
    "    batch_x = x[rand_batch]\n",
    "    batch_y = y[rand_batch]\n",
    "    \n",
    "    aug = []\n",
    "    for e in batch_x:\n",
    "        if np.random.random() < 0.5:\n",
    "            e = ocr.shift(e,10)\n",
    "        if np.random.random() < 0.5:\n",
    "            e = ocr.rotate(e,15)\n",
    "        if np.random.random() < 0.5:\n",
    "            e = ocr.g_blur(e,0.5)\n",
    "        if np.random.random() < 0.5:\n",
    "            e = ocr.reverse(e)\n",
    "        if np.random.random() < 0.5:\n",
    "            e = ocr.shrink(e,0.4)\n",
    "        if np.random.random() < 0.5:\n",
    "            e = ocr.tilt(e,20)\n",
    "        aug.append(e)\n",
    "    return(np.array(aug),batch_y)"
   ]
  },
  {
   "cell_type": "code",
   "execution_count": 8,
   "metadata": {
    "scrolled": false
   },
   "outputs": [
    {
     "name": "stdout",
     "output_type": "stream",
     "text": [
      "아름다운\n",
      "[[0. 0. 0. ... 0. 0. 0.]\n",
      " [0. 0. 0. ... 0. 0. 0.]\n",
      " [0. 0. 0. ... 0. 0. 0.]\n",
      " ...\n",
      " [1. 0. 0. ... 0. 0. 0.]\n",
      " [1. 0. 0. ... 0. 0. 0.]\n",
      " [1. 0. 0. ... 0. 0. 0.]]\n"
     ]
    }
   ],
   "source": [
    "# ocr.one_hot(바꿀 단어, 모델이 예측할 최대 음소 길이 (15이며 확장 가능), 음소 - one hot dictionary)\n",
    "\n",
    "train_y_hot = ocr.one_hot(y_train,15,dictionary)\n",
    "test_y_hot = ocr.one_hot(y_test,15,dictionary)\n",
    "\n",
    "print(y_train[0])\n",
    "print(train_y_hot[0])"
   ]
  },
  {
   "cell_type": "code",
   "execution_count": null,
   "metadata": {},
   "outputs": [],
   "source": [
    "opt = keras.optimizers.SGD(lr=0.01,decay=0.00001, momentum = 0.5, nesterov = True)\n",
    "\n",
    "model.compile(loss='categorical_crossentropy', optimizer=opt, metrics = ['accuracy'])\n",
    "checkpoint_Best = ModelCheckpoint(filepath=save_model_path, verbose=0, save_best_only=True)\n"
   ]
  },
  {
   "cell_type": "code",
   "execution_count": null,
   "metadata": {
    "scrolled": true
   },
   "outputs": [],
   "source": [
    "# 실제 데이터 1번, 생성데이터 1번을 번갈아가면서 학습\n",
    "\n",
    "\n",
    "train_generator = ocr.DataGenerator(batch_size=64, x_dim=(32,128), kor_source = kor_train, eng_source = eng_train, text_length = 15, dictionary = dictionary, font_path=font_path,text_generator = ocr.text_img_generator)\n",
    "test_generator = ocr.DataGenerator(batch_size=500, x_dim=(32,128), kor_source = kor_test, eng_source = eng_test, text_length = 15, dictionary = dictionary, font_path=font_path,text_generator = ocr.text_img_generator)\n",
    "\n",
    "\n",
    "epochs = 500\n",
    "steps_per_epoch = 100\n",
    "min_loss = 100\n",
    "\n",
    "for epoch in range(epochs):\n",
    "    dt1 = datetime.datetime.now()\n",
    "    for step in range(steps_per_epoch):\n",
    "        x_batch_gen, y_batch_gen = train_generator.data_generation()\n",
    "        x_batch_real, y_batch_real= handmade_generator(X_train,train_y_hot,64)\n",
    "        loss_gen = model.train_on_batch(x_batch_gen,y_batch_gen)\n",
    "        loss_real = model.train_on_batch(x_batch_real, y_batch_real)\n",
    "        \n",
    "    test_loss, test_acc = model.evaluate(X_test,test_y_hot,verbose = 0)\n",
    "    if test_loss < min_loss:\n",
    "        min_loss = test_loss\n",
    "        model.save(save_model_path)\n",
    "\n",
    "    dt2 = datetime.datetime.now()\n",
    "    time = dt2-dt1\n",
    "    print ('epoch: %d, [Train_Loss: %.4f], [Train_Acc: %.2f Percent], [Test_Loss: %.4f], [Test_Acc: %.2f Percent], [Elapsed Time: %.2f Seconds]' % \n",
    "           (epoch+1, loss_real[0], 100*loss_real[1], test_loss, 100*test_acc, time.total_seconds()))\n",
    "\n"
   ]
  }
 ],
 "metadata": {
  "kernelspec": {
   "display_name": "Tensorflow",
   "language": "python",
   "name": "tensorflow"
  },
  "language_info": {
   "codemirror_mode": {
    "name": "ipython",
    "version": 3
   },
   "file_extension": ".py",
   "mimetype": "text/x-python",
   "name": "python",
   "nbconvert_exporter": "python",
   "pygments_lexer": "ipython3",
   "version": "3.6.3"
  }
 },
 "nbformat": 4,
 "nbformat_minor": 2
}
